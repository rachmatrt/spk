{
  "nbformat": 4,
  "nbformat_minor": 0,
  "metadata": {
    "colab": {
      "name": "pensiun_fix.ipynb",
      "version": "0.3.2",
      "provenance": [],
      "collapsed_sections": []
    },
    "kernelspec": {
      "name": "python3",
      "display_name": "Python 3"
    }
  },
  "cells": [
    {
      "metadata": {
        "id": "piHtixRtsquz",
        "colab_type": "code",
        "colab": {
          "base_uri": "https://localhost:8080/",
          "height": 993
        },
        "outputId": "16b8e070-312b-476a-9132-a88dd3850dd8"
      },
      "cell_type": "code",
      "source": [
        "#Inputan Nama dan Tahun Lahir\n",
        "nama = input(\"Nama Anda : \" )\n",
        "thlahir = input(\"Tahun Lahir Anda : \")\n",
        "if thlahir >= \"2018\":\n",
        "  thlahir = \"2018\"\n",
        "else:\n",
        "  thlahir = thlahir\n",
        "umur = 2018 - int(thlahir)\n",
        "\n",
        "#seleksi umur\n",
        "def sel_umur(umur):\n",
        "  if umur >= 50:\n",
        "    usia = 0\n",
        "  elif umur <= 18:\n",
        "    usia = 2\n",
        "  else:\n",
        "    usia = 1\n",
        "  return usia\n",
        "usia = sel_umur(umur)\n",
        "\n",
        "#seleksi batas\n",
        "def sel_batas(umur):\n",
        "  if umur >= 60:\n",
        "    batas = 1\n",
        "  else:\n",
        "    batas = 0\n",
        "  return batas\n",
        "batas = sel_batas(umur)\n",
        "\n",
        "selhidup = [\"wafat\",\"hidup\"]\n",
        "selyesno = [\"tidak\",\"ya\"]\n",
        "selsakit = [\"tidak ada\",\"ringan\",\"berat\"]\n",
        "selusia = [\"tua\",\"muda\",\"pelajar\"]\n",
        "pensiun = [\"belum pensiun\",\"pensiun dini\",\"pensiun\"]\n",
        "\n",
        "#Inputan Kategori Sakit\n",
        "print (\"======= Kategori Sakit ========\")\n",
        "for i in range(0,len(selsakit)):\n",
        "  print (i,selsakit[i])\n",
        "insakit = input (\"masukkan angka : \")\n",
        "def sel_sakit(insakit):\n",
        "  if insakit > \"2\":\n",
        "    sakit = 2\n",
        "  else:\n",
        "    sakit = int(insakit)\n",
        "  return sakit\n",
        "sakit = sel_sakit(insakit)\n",
        "\n",
        "#Inputan Kategori Kehidupan\n",
        "print (\"======= Kategori Kehidupan ========\")\n",
        "for i in range(0,len(selhidup)):\n",
        "  print (i,selhidup[i])\n",
        "inhidup = input(\"masukkan angka : \")\n",
        "def sel_hidup(inhidup):\n",
        "  if inhidup >= \"1\":\n",
        "    hidup = 1\n",
        "  else:\n",
        "    hidup = 0\n",
        "  return hidup\n",
        "hidup = sel_hidup(inhidup)\n",
        "\n",
        "#keperluan\n",
        "!pip install -q graphviz && pip install -q pydot\n",
        "import graphviz\n",
        "import pandas as pd\n",
        "from sklearn import tree \n",
        "from sklearn.tree import DecisionTreeClassifier, export_graphviz\n",
        "\n",
        "#persiapan Data\n",
        "data = pd.read_csv('pensiun1.csv')\n",
        "datanya = data.drop('keputusan', axis = 1) #Attribut data\n",
        "target = data['keputusan'] #attribut keputusan pensiun\n",
        "\n",
        "#Klarifikasi dengan SKLearn\n",
        "klarifikasi = tree.DecisionTreeClassifier()\n",
        "clf = klarifikasi.fit(datanya,target)\n",
        "hasil = clf.predict([[usia,batas,sakit,hidup]])\n",
        "print (\"\\n========== Keputusan =============\")\n",
        "print (\"Nama Anda :\", nama)\n",
        "print (\"Umur Anda :\", umur)\n",
        "print (\"Kategori Usia :\",usia,selusia[usia])\n",
        "print (\"Kategori Batas :\",batas,selyesno[batas])\n",
        "print (\"Kategori Sakit :\",sakit,selsakit[sakit])\n",
        "print (\"Status Kehidupan :\",hidup,selhidup[hidup])\n",
        "print(\"Anda dinyatakan : \",hasil,pensiun[int(hasil)],\"\\n\")\n",
        "\n",
        "#Mencetak Grafik\n",
        "data_grafik = tree.export_graphviz(clf,out_file=None, \n",
        "                                   filled=True, rounded=True,  \n",
        "                                   special_characters=True)\n",
        "grafik = graphviz.Source(data_grafik)\n",
        "grafik"
      ],
      "execution_count": 4,
      "outputs": [
        {
          "output_type": "stream",
          "text": [
            "Nama Anda : Rachmat Risanto\n",
            "Tahun Lahir Anda : 1976\n",
            "======= Kategori Sakit ========\n",
            "0 tidak ada\n",
            "1 ringan\n",
            "2 berat\n",
            "masukkan angka : 2\n",
            "======= Kategori Kehidupan ========\n",
            "0 wafat\n",
            "1 hidup\n",
            "masukkan angka : 1\n",
            "\n",
            "========== Keputusan =============\n",
            "Nama Anda : Rachmat Risanto\n",
            "Umur Anda : 42\n",
            "Kategori Usia : 1 muda\n",
            "Kategori Batas : 0 tidak\n",
            "Kategori Sakit : 2 berat\n",
            "Status Kehidupan : 1 hidup\n",
            "Anda dinyatakan :  [1] pensiun dini \n",
            "\n"
          ],
          "name": "stdout"
        },
        {
          "output_type": "execute_result",
          "data": {
            "text/plain": [
              "<graphviz.files.Source at 0x7f3cfe92d7f0>"
            ],
            "image/svg+xml": "<?xml version=\"1.0\" encoding=\"UTF-8\" standalone=\"no\"?>\n<!DOCTYPE svg PUBLIC \"-//W3C//DTD SVG 1.1//EN\"\n \"http://www.w3.org/Graphics/SVG/1.1/DTD/svg11.dtd\">\n<!-- Generated by graphviz version 2.40.1 (20161225.0304)\n -->\n<!-- Title: Tree Pages: 1 -->\n<svg width=\"392pt\" height=\"461pt\"\n viewBox=\"0.00 0.00 392.00 461.00\" xmlns=\"http://www.w3.org/2000/svg\" xmlns:xlink=\"http://www.w3.org/1999/xlink\">\n<g id=\"graph0\" class=\"graph\" transform=\"scale(1 1) rotate(0) translate(4 457)\">\n<title>Tree</title>\n<polygon fill=\"#ffffff\" stroke=\"transparent\" points=\"-4,4 -4,-457 388,-457 388,4 -4,4\"/>\n<!-- 0 -->\n<g id=\"node1\" class=\"node\">\n<title>0</title>\n<path fill=\"#e58139\" fill-opacity=\"0.125490\" stroke=\"#000000\" d=\"M307,-453C307,-453 208,-453 208,-453 202,-453 196,-447 196,-441 196,-441 196,-401 196,-401 196,-395 202,-389 208,-389 208,-389 307,-389 307,-389 313,-389 319,-395 319,-401 319,-401 319,-441 319,-441 319,-447 313,-453 307,-453\"/>\n<text text-anchor=\"start\" x=\"231\" y=\"-438.8\" font-family=\"Helvetica,sans-Serif\" font-size=\"14.00\" fill=\"#000000\">X</text>\n<text text-anchor=\"start\" x=\"241\" y=\"-438.8\" font-family=\"Helvetica,sans-Serif\" baseline-shift=\"sub\" font-size=\"14.00\" fill=\"#000000\">1</text>\n<text text-anchor=\"start\" x=\"248\" y=\"-438.8\" font-family=\"Helvetica,sans-Serif\" font-size=\"14.00\" fill=\"#000000\"> ≤ 0.5</text>\n<text text-anchor=\"start\" x=\"219.5\" y=\"-424.8\" font-family=\"Helvetica,sans-Serif\" font-size=\"14.00\" fill=\"#000000\">gini = 0.653</text>\n<text text-anchor=\"start\" x=\"213.5\" y=\"-410.8\" font-family=\"Helvetica,sans-Serif\" font-size=\"14.00\" fill=\"#000000\">samples = 24</text>\n<text text-anchor=\"start\" x=\"204\" y=\"-396.8\" font-family=\"Helvetica,sans-Serif\" font-size=\"14.00\" fill=\"#000000\">value = [10, 8, 6]</text>\n</g>\n<!-- 1 -->\n<g id=\"node2\" class=\"node\">\n<title>1</title>\n<path fill=\"#e58139\" fill-opacity=\"0.200000\" stroke=\"#000000\" d=\"M239,-353C239,-353 140,-353 140,-353 134,-353 128,-347 128,-341 128,-341 128,-301 128,-301 128,-295 134,-289 140,-289 140,-289 239,-289 239,-289 245,-289 251,-295 251,-301 251,-301 251,-341 251,-341 251,-347 245,-353 239,-353\"/>\n<text text-anchor=\"start\" x=\"163\" y=\"-338.8\" font-family=\"Helvetica,sans-Serif\" font-size=\"14.00\" fill=\"#000000\">X</text>\n<text text-anchor=\"start\" x=\"173\" y=\"-338.8\" font-family=\"Helvetica,sans-Serif\" baseline-shift=\"sub\" font-size=\"14.00\" fill=\"#000000\">0</text>\n<text text-anchor=\"start\" x=\"180\" y=\"-338.8\" font-family=\"Helvetica,sans-Serif\" font-size=\"14.00\" fill=\"#000000\"> ≤ 1.5</text>\n<text text-anchor=\"start\" x=\"151.5\" y=\"-324.8\" font-family=\"Helvetica,sans-Serif\" font-size=\"14.00\" fill=\"#000000\">gini = 0.494</text>\n<text text-anchor=\"start\" x=\"145.5\" y=\"-310.8\" font-family=\"Helvetica,sans-Serif\" font-size=\"14.00\" fill=\"#000000\">samples = 18</text>\n<text text-anchor=\"start\" x=\"136\" y=\"-296.8\" font-family=\"Helvetica,sans-Serif\" font-size=\"14.00\" fill=\"#000000\">value = [10, 8, 0]</text>\n</g>\n<!-- 0&#45;&gt;1 -->\n<g id=\"edge1\" class=\"edge\">\n<title>0&#45;&gt;1</title>\n<path fill=\"none\" stroke=\"#000000\" d=\"M235.6101,-388.8089C229.7256,-380.1553 223.2844,-370.683 217.1318,-361.635\"/>\n<polygon fill=\"#000000\" stroke=\"#000000\" points=\"219.8663,-359.4319 211.3489,-353.1308 214.0778,-363.3681 219.8663,-359.4319\"/>\n<text text-anchor=\"middle\" x=\"206.6711\" y=\"-373.9892\" font-family=\"Helvetica,sans-Serif\" font-size=\"14.00\" fill=\"#000000\">True</text>\n</g>\n<!-- 8 -->\n<g id=\"node9\" class=\"node\">\n<title>8</title>\n<path fill=\"#8139e5\" stroke=\"#000000\" d=\"M372,-347.5C372,-347.5 281,-347.5 281,-347.5 275,-347.5 269,-341.5 269,-335.5 269,-335.5 269,-306.5 269,-306.5 269,-300.5 275,-294.5 281,-294.5 281,-294.5 372,-294.5 372,-294.5 378,-294.5 384,-300.5 384,-306.5 384,-306.5 384,-335.5 384,-335.5 384,-341.5 378,-347.5 372,-347.5\"/>\n<text text-anchor=\"start\" x=\"297\" y=\"-332.3\" font-family=\"Helvetica,sans-Serif\" font-size=\"14.00\" fill=\"#000000\">gini = 0.0</text>\n<text text-anchor=\"start\" x=\"287\" y=\"-317.3\" font-family=\"Helvetica,sans-Serif\" font-size=\"14.00\" fill=\"#000000\">samples = 6</text>\n<text text-anchor=\"start\" x=\"277\" y=\"-302.3\" font-family=\"Helvetica,sans-Serif\" font-size=\"14.00\" fill=\"#000000\">value = [0, 0, 6]</text>\n</g>\n<!-- 0&#45;&gt;8 -->\n<g id=\"edge8\" class=\"edge\">\n<title>0&#45;&gt;8</title>\n<path fill=\"none\" stroke=\"#000000\" d=\"M279.7118,-388.8089C286.9238,-378.3568 294.9599,-366.7103 302.3088,-356.0597\"/>\n<polygon fill=\"#000000\" stroke=\"#000000\" points=\"305.2278,-357.9921 308.0263,-347.7735 299.4662,-354.0166 305.2278,-357.9921\"/>\n<text text-anchor=\"middle\" x=\"312.5368\" y=\"-368.6633\" font-family=\"Helvetica,sans-Serif\" font-size=\"14.00\" fill=\"#000000\">False</text>\n</g>\n<!-- 2 -->\n<g id=\"node3\" class=\"node\">\n<title>2</title>\n<path fill=\"#39e581\" fill-opacity=\"0.498039\" stroke=\"#000000\" d=\"M169,-253C169,-253 78,-253 78,-253 72,-253 66,-247 66,-241 66,-241 66,-201 66,-201 66,-195 72,-189 78,-189 78,-189 169,-189 169,-189 175,-189 181,-195 181,-201 181,-201 181,-241 181,-241 181,-247 175,-253 169,-253\"/>\n<text text-anchor=\"start\" x=\"97\" y=\"-238.8\" font-family=\"Helvetica,sans-Serif\" font-size=\"14.00\" fill=\"#000000\">X</text>\n<text text-anchor=\"start\" x=\"107\" y=\"-238.8\" font-family=\"Helvetica,sans-Serif\" baseline-shift=\"sub\" font-size=\"14.00\" fill=\"#000000\">3</text>\n<text text-anchor=\"start\" x=\"114\" y=\"-238.8\" font-family=\"Helvetica,sans-Serif\" font-size=\"14.00\" fill=\"#000000\"> ≤ 0.5</text>\n<text text-anchor=\"start\" x=\"85.5\" y=\"-224.8\" font-family=\"Helvetica,sans-Serif\" font-size=\"14.00\" fill=\"#000000\">gini = 0.444</text>\n<text text-anchor=\"start\" x=\"79.5\" y=\"-210.8\" font-family=\"Helvetica,sans-Serif\" font-size=\"14.00\" fill=\"#000000\">samples = 12</text>\n<text text-anchor=\"start\" x=\"74\" y=\"-196.8\" font-family=\"Helvetica,sans-Serif\" font-size=\"14.00\" fill=\"#000000\">value = [4, 8, 0]</text>\n</g>\n<!-- 1&#45;&gt;2 -->\n<g id=\"edge2\" class=\"edge\">\n<title>1&#45;&gt;2</title>\n<path fill=\"none\" stroke=\"#000000\" d=\"M168.2539,-288.8089C162.5425,-280.1553 156.2908,-270.683 150.3191,-261.635\"/>\n<polygon fill=\"#000000\" stroke=\"#000000\" points=\"153.1359,-259.5489 144.7063,-253.1308 147.2936,-263.4048 153.1359,-259.5489\"/>\n</g>\n<!-- 7 -->\n<g id=\"node8\" class=\"node\">\n<title>7</title>\n<path fill=\"#e58139\" stroke=\"#000000\" d=\"M302,-247.5C302,-247.5 211,-247.5 211,-247.5 205,-247.5 199,-241.5 199,-235.5 199,-235.5 199,-206.5 199,-206.5 199,-200.5 205,-194.5 211,-194.5 211,-194.5 302,-194.5 302,-194.5 308,-194.5 314,-200.5 314,-206.5 314,-206.5 314,-235.5 314,-235.5 314,-241.5 308,-247.5 302,-247.5\"/>\n<text text-anchor=\"start\" x=\"227\" y=\"-232.3\" font-family=\"Helvetica,sans-Serif\" font-size=\"14.00\" fill=\"#000000\">gini = 0.0</text>\n<text text-anchor=\"start\" x=\"217\" y=\"-217.3\" font-family=\"Helvetica,sans-Serif\" font-size=\"14.00\" fill=\"#000000\">samples = 6</text>\n<text text-anchor=\"start\" x=\"207\" y=\"-202.3\" font-family=\"Helvetica,sans-Serif\" font-size=\"14.00\" fill=\"#000000\">value = [6, 0, 0]</text>\n</g>\n<!-- 1&#45;&gt;7 -->\n<g id=\"edge7\" class=\"edge\">\n<title>1&#45;&gt;7</title>\n<path fill=\"none\" stroke=\"#000000\" d=\"M211.068,-288.8089C218.0016,-278.4603 225.7197,-266.9408 232.7978,-256.3764\"/>\n<polygon fill=\"#000000\" stroke=\"#000000\" points=\"235.9032,-258.0294 238.5617,-247.7735 230.0878,-254.1331 235.9032,-258.0294\"/>\n</g>\n<!-- 3 -->\n<g id=\"node4\" class=\"node\">\n<title>3</title>\n<path fill=\"#39e581\" stroke=\"#000000\" d=\"M103,-147.5C103,-147.5 12,-147.5 12,-147.5 6,-147.5 0,-141.5 0,-135.5 0,-135.5 0,-106.5 0,-106.5 0,-100.5 6,-94.5 12,-94.5 12,-94.5 103,-94.5 103,-94.5 109,-94.5 115,-100.5 115,-106.5 115,-106.5 115,-135.5 115,-135.5 115,-141.5 109,-147.5 103,-147.5\"/>\n<text text-anchor=\"start\" x=\"28\" y=\"-132.3\" font-family=\"Helvetica,sans-Serif\" font-size=\"14.00\" fill=\"#000000\">gini = 0.0</text>\n<text text-anchor=\"start\" x=\"18\" y=\"-117.3\" font-family=\"Helvetica,sans-Serif\" font-size=\"14.00\" fill=\"#000000\">samples = 6</text>\n<text text-anchor=\"start\" x=\"8\" y=\"-102.3\" font-family=\"Helvetica,sans-Serif\" font-size=\"14.00\" fill=\"#000000\">value = [0, 6, 0]</text>\n</g>\n<!-- 2&#45;&gt;3 -->\n<g id=\"edge3\" class=\"edge\">\n<title>2&#45;&gt;3</title>\n<path fill=\"none\" stroke=\"#000000\" d=\"M102.2539,-188.8089C95.4238,-178.4603 87.8209,-166.9408 80.8484,-156.3764\"/>\n<polygon fill=\"#000000\" stroke=\"#000000\" points=\"83.6001,-154.1917 75.1705,-147.7735 77.7579,-158.0476 83.6001,-154.1917\"/>\n</g>\n<!-- 4 -->\n<g id=\"node5\" class=\"node\">\n<title>4</title>\n<path fill=\"#e58139\" fill-opacity=\"0.498039\" stroke=\"#000000\" d=\"M236,-153C236,-153 145,-153 145,-153 139,-153 133,-147 133,-141 133,-141 133,-101 133,-101 133,-95 139,-89 145,-89 145,-89 236,-89 236,-89 242,-89 248,-95 248,-101 248,-101 248,-141 248,-141 248,-147 242,-153 236,-153\"/>\n<text text-anchor=\"start\" x=\"164\" y=\"-138.8\" font-family=\"Helvetica,sans-Serif\" font-size=\"14.00\" fill=\"#000000\">X</text>\n<text text-anchor=\"start\" x=\"174\" y=\"-138.8\" font-family=\"Helvetica,sans-Serif\" baseline-shift=\"sub\" font-size=\"14.00\" fill=\"#000000\">2</text>\n<text text-anchor=\"start\" x=\"181\" y=\"-138.8\" font-family=\"Helvetica,sans-Serif\" font-size=\"14.00\" fill=\"#000000\"> ≤ 1.5</text>\n<text text-anchor=\"start\" x=\"152.5\" y=\"-124.8\" font-family=\"Helvetica,sans-Serif\" font-size=\"14.00\" fill=\"#000000\">gini = 0.444</text>\n<text text-anchor=\"start\" x=\"151\" y=\"-110.8\" font-family=\"Helvetica,sans-Serif\" font-size=\"14.00\" fill=\"#000000\">samples = 6</text>\n<text text-anchor=\"start\" x=\"141\" y=\"-96.8\" font-family=\"Helvetica,sans-Serif\" font-size=\"14.00\" fill=\"#000000\">value = [4, 2, 0]</text>\n</g>\n<!-- 2&#45;&gt;4 -->\n<g id=\"edge4\" class=\"edge\">\n<title>2&#45;&gt;4</title>\n<path fill=\"none\" stroke=\"#000000\" d=\"M145.068,-188.8089C150.8659,-180.1553 157.2124,-170.683 163.2745,-161.635\"/>\n<polygon fill=\"#000000\" stroke=\"#000000\" points=\"166.3139,-163.3866 168.9724,-153.1308 160.4985,-159.4903 166.3139,-163.3866\"/>\n</g>\n<!-- 5 -->\n<g id=\"node6\" class=\"node\">\n<title>5</title>\n<path fill=\"#e58139\" stroke=\"#000000\" d=\"M169,-53C169,-53 78,-53 78,-53 72,-53 66,-47 66,-41 66,-41 66,-12 66,-12 66,-6 72,0 78,0 78,0 169,0 169,0 175,0 181,-6 181,-12 181,-12 181,-41 181,-41 181,-47 175,-53 169,-53\"/>\n<text text-anchor=\"start\" x=\"94\" y=\"-37.8\" font-family=\"Helvetica,sans-Serif\" font-size=\"14.00\" fill=\"#000000\">gini = 0.0</text>\n<text text-anchor=\"start\" x=\"84\" y=\"-22.8\" font-family=\"Helvetica,sans-Serif\" font-size=\"14.00\" fill=\"#000000\">samples = 4</text>\n<text text-anchor=\"start\" x=\"74\" y=\"-7.8\" font-family=\"Helvetica,sans-Serif\" font-size=\"14.00\" fill=\"#000000\">value = [4, 0, 0]</text>\n</g>\n<!-- 4&#45;&gt;5 -->\n<g id=\"edge5\" class=\"edge\">\n<title>4&#45;&gt;5</title>\n<path fill=\"none\" stroke=\"#000000\" d=\"M167.6298,-88.7428C161.4246,-79.9906 154.6765,-70.4728 148.3669,-61.5735\"/>\n<polygon fill=\"#000000\" stroke=\"#000000\" points=\"151.123,-59.4093 142.4839,-53.2759 145.4126,-63.4579 151.123,-59.4093\"/>\n</g>\n<!-- 6 -->\n<g id=\"node7\" class=\"node\">\n<title>6</title>\n<path fill=\"#39e581\" stroke=\"#000000\" d=\"M302,-53C302,-53 211,-53 211,-53 205,-53 199,-47 199,-41 199,-41 199,-12 199,-12 199,-6 205,0 211,0 211,0 302,0 302,0 308,0 314,-6 314,-12 314,-12 314,-41 314,-41 314,-47 308,-53 302,-53\"/>\n<text text-anchor=\"start\" x=\"227\" y=\"-37.8\" font-family=\"Helvetica,sans-Serif\" font-size=\"14.00\" fill=\"#000000\">gini = 0.0</text>\n<text text-anchor=\"start\" x=\"217\" y=\"-22.8\" font-family=\"Helvetica,sans-Serif\" font-size=\"14.00\" fill=\"#000000\">samples = 2</text>\n<text text-anchor=\"start\" x=\"207\" y=\"-7.8\" font-family=\"Helvetica,sans-Serif\" font-size=\"14.00\" fill=\"#000000\">value = [0, 2, 0]</text>\n</g>\n<!-- 4&#45;&gt;6 -->\n<g id=\"edge6\" class=\"edge\">\n<title>4&#45;&gt;6</title>\n<path fill=\"none\" stroke=\"#000000\" d=\"M213.0289,-88.7428C219.1415,-79.9906 225.7888,-70.4728 232.0042,-61.5735\"/>\n<polygon fill=\"#000000\" stroke=\"#000000\" points=\"234.9429,-63.4784 237.7994,-53.2759 229.204,-59.4702 234.9429,-63.4784\"/>\n</g>\n</g>\n</svg>\n"
          },
          "metadata": {
            "tags": []
          },
          "execution_count": 4
        }
      ]
    }
  ]
}